{
 "cells": [
  {
   "cell_type": "markdown",
   "metadata": {},
   "source": [
    "# Machina Quickstart notebook2 : Atari\n",
    "This notebook exmaple is for bigginer.\n",
    "\n",
    "In this example you can try Atari 2600 games of [gym](https://gym.openai.com/envs/#atari).\n",
    "## requirements\n",
    ">pip install atari-py\n",
    "\n",
    ">pip install opencv-python"
   ]
  },
  {
   "cell_type": "code",
   "execution_count": 57,
   "metadata": {},
   "outputs": [],
   "source": [
    "import numpy as np\n",
    "import gym\n",
    "import torch\n",
    "import os\n",
    "from atari_wrappers import make_atari, wrap_deepmind"
   ]
  },
  {
   "cell_type": "code",
   "execution_count": 58,
   "metadata": {},
   "outputs": [],
   "source": [
    "# you should add envname+'NoFrameskip-v4'\n",
    "env_type = 'atari'\n",
    "env_name = 'PongNoFrameskip-v4'\n",
    "env = make_atari(env_name)\n",
    "env = wrap_deepmind(env, episode_life=True, clip_rewards=True, frame_stack=True, scale=False)\n",
    "obs = env.reset()"
   ]
  },
  {
   "cell_type": "code",
   "execution_count": 66,
   "metadata": {},
   "outputs": [
    {
     "name": "stdout",
     "output_type": "stream",
     "text": [
      "observation shape is (84, 84, 4)\n"
     ]
    },
    {
     "data": {
      "image/png": "[encoded data removed]",
      "text/plain": [
       "<matplotlib.figure.Figure at 0x12d82ffd0>"
      ]
     },
     "metadata": {
      "needs_background": "light"
     },
     "output_type": "display_data"
    }
   ],
   "source": [
    "# check observation\n",
    "from matplotlib import pylab as plt\n",
    "%matplotlib inline\n",
    "fig, ax = plt.subplots(1, 4, figsize=(10, 3))\n",
    "for i in range(4):\n",
    "    img = [[o[i] for o in ob]for ob in obs.__array__()]\n",
    "    ax[i].imshow(img)\n",
    "print('observation shape is',obs.__array__().shape)"
   ]
  },
  {
   "cell_type": "code",
   "execution_count": null,
   "metadata": {},
   "outputs": [],
   "source": []
  }
 ],
 "metadata": {
  "kernelspec": {
   "display_name": "Python 3",
   "language": "python",
   "name": "python3"
  },
  "language_info": {
   "codemirror_mode": {
    "name": "ipython",
    "version": 3
   },
   "file_extension": ".py",
   "mimetype": "text/x-python",
   "name": "python",
   "nbconvert_exporter": "python",
   "pygments_lexer": "ipython3",
   "version": "3.6.6"
  }
 },
 "nbformat": 4,
 "nbformat_minor": 2
}
